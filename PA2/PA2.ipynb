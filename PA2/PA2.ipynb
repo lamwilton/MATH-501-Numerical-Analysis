{
 "cells": [
  {
   "cell_type": "markdown",
   "metadata": {},
   "source": [
    "MATH 501 PA2  \n",
    "For question 19, there is no root between 1 and 2 of the function  \n",
    "For question 20, 6.0 is a root of the function. But after changing it to 36.001, the program cannot find a solution because of floating point errors  \n",
    "Program is written in Python 3  \n",
    "The output is first question 19, then question 20 and repeating question 20"
   ]
  },
  {
   "cell_type": "code",
   "execution_count": 1,
   "metadata": {},
   "outputs": [
    {
     "name": "stdin",
     "output_type": "stream",
     "text": [
      "Input a 1\n",
      "Input b 2\n",
      "Input M 100\n",
      "Input delta 0.01\n",
      "Input epsilon 0.01\n"
     ]
    },
    {
     "name": "stdout",
     "output_type": "stream",
     "text": [
      "a = 1.0\n",
      "b = 2.0\n",
      "u = -0.5574077246549023\n",
      "v = 4.185039863261519\n",
      "\n",
      "k = 1\n",
      "c = 1.5\n",
      "w = -12.601419947171719\n",
      "e = 0.5\n",
      "\n",
      "k = 2\n",
      "c = 1.75\n",
      "w = 7.27037992250933\n",
      "e = 0.25\n",
      "\n",
      "k = 3\n",
      "c = 1.625\n",
      "w = 20.05586276236962\n",
      "e = 0.125\n",
      "\n",
      "k = 4\n",
      "c = 1.5625\n",
      "w = -118.97000572254261\n",
      "e = 0.0625\n",
      "\n",
      "k = 5\n",
      "c = 1.59375\n",
      "w = 45.15211040673973\n",
      "e = 0.03125\n",
      "\n",
      "k = 6\n",
      "c = 1.578125\n",
      "w = 138.02602884284482\n",
      "e = 0.015625\n",
      "\n",
      "k = 7\n",
      "c = 1.5703125\n",
      "w = -2065.2848772466036\n",
      "e = 0.0078125\n",
      "\n"
     ]
    },
    {
     "name": "stdin",
     "output_type": "stream",
     "text": [
      "Input a 5.5\n",
      "Input b 6.5\n",
      "Input M 100\n",
      "Input delta 0.01\n",
      "Input epsilon 0.01\n"
     ]
    },
    {
     "name": "stdout",
     "output_type": "stream",
     "text": [
      "a = 5.5\n",
      "b = 6.5\n",
      "u = -55.37109375\n",
      "v = 121.81640625\n",
      "\n",
      "k = 1\n",
      "c = 6.0\n",
      "w = 0.0\n",
      "e = 0.5\n",
      "\n"
     ]
    },
    {
     "name": "stdin",
     "output_type": "stream",
     "text": [
      "Input a 5.5\n",
      "Input b 6.5\n",
      "Input M 100\n",
      "Input delta 0.01\n",
      "Input epsilon 0.01\n"
     ]
    },
    {
     "name": "stdout",
     "output_type": "stream",
     "text": [
      "a = 5.5\n",
      "b = 6.5\n",
      "u = -207.6146171875298\n",
      "v = -368.40638281032443\n",
      "\n"
     ]
    }
   ],
   "source": [
    "import math\n",
    "\n",
    "\n",
    "def function1(x: float):\n",
    "    \"\"\"\n",
    "    Question 19\n",
    "    :param x:\n",
    "    :return:\n",
    "    \"\"\"\n",
    "    return x - math.tan(x)\n",
    "\n",
    "\n",
    "def function2(x: float):\n",
    "    \"\"\"\n",
    "    Question 20\n",
    "    :param x:\n",
    "    :return:\n",
    "    \"\"\"\n",
    "    return x ** 8 - 36 * x ** 7 + 546 * x ** 6 - 4536 * x ** 5 + 22449 * x ** 4 - 67284 * x ** 3 + \\\n",
    "           118124 * x ** 2 - 109584 * x + 40320\n",
    "\n",
    "\n",
    "def function2a(x: float):\n",
    "    \"\"\"\n",
    "    Question 20 repeating with 36.001\n",
    "    :param x:\n",
    "    :return:\n",
    "    \"\"\"\n",
    "    return x ** 8 - 36.001 * x ** 7 + 546 * x ** 6 - 4536 * x ** 5 + 22449 * x ** 4 - 67284 * x ** 3 + \\\n",
    "           118124 * x ** 2 - 109584 * x + 40320\n",
    "\n",
    "\n",
    "def sign(x: float):\n",
    "    \"\"\"\n",
    "    Returns sign of a number\n",
    "    :param x: The number\n",
    "    :return: 1 if positive, -1 if negative\n",
    "    \"\"\"\n",
    "    return (x > 0) - (x < 0)\n",
    "\n",
    "\n",
    "def bisection(func):\n",
    "    \"\"\"\n",
    "    The bisection algorithm\n",
    "    :param func: The math function\n",
    "    :return:\n",
    "    \"\"\"\n",
    "    a = float(input(\"Input a\"))\n",
    "    b = float(input(\"Input b\"))\n",
    "    M = int(input(\"Input M\"))\n",
    "    delta = float(input(\"Input delta\"))\n",
    "    epsilon = float(input(\"Input epsilon\"))\n",
    "    u = func(a)\n",
    "    v = func(b)\n",
    "    e = b - a\n",
    "    print(\"a = \" + str(a))\n",
    "    print(\"b = \" + str(b))\n",
    "    print(\"u = \" + str(u))\n",
    "    print(\"v = \" + str(v))\n",
    "    print()\n",
    "    if sign(u) == sign(v):\n",
    "        return\n",
    "    for k in range(1, M - 1):\n",
    "        e = e / 2\n",
    "        c = a + e\n",
    "        w = func(c)\n",
    "        print(\"k = \" + str(k))\n",
    "        print(\"c = \" + str(c))\n",
    "        print(\"w = \" + str(w))\n",
    "        print(\"e = \" + str(e))\n",
    "        print()\n",
    "        if abs(e) < delta or abs(w) < epsilon:\n",
    "            return\n",
    "        if sign(w) != sign(u):\n",
    "            b = c\n",
    "            v = w\n",
    "        else:\n",
    "            a = c\n",
    "            u = w\n",
    "\n",
    "\n",
    "if __name__ == '__main__':\n",
    "    bisection(function1)\n",
    "    bisection(function2)\n",
    "    bisection(function2a)\n"
   ]
  }
 ],
 "metadata": {
  "kernelspec": {
   "display_name": "Python 3",
   "language": "python",
   "name": "python3"
  },
  "language_info": {
   "codemirror_mode": {
    "name": "ipython",
    "version": 3
   },
   "file_extension": ".py",
   "mimetype": "text/x-python",
   "name": "python",
   "nbconvert_exporter": "python",
   "pygments_lexer": "ipython3",
   "version": "3.7.4"
  }
 },
 "nbformat": 4,
 "nbformat_minor": 4
}
